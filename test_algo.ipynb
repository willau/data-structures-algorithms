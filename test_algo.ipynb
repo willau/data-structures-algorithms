{
 "cells": [
  {
   "cell_type": "code",
   "execution_count": 1,
   "metadata": {
    "collapsed": true
   },
   "outputs": [],
   "source": [
    "%load_ext autoreload\n",
    "%autoreload 2"
   ]
  },
  {
   "cell_type": "markdown",
   "metadata": {},
   "source": [
    "# Testing algorithms"
   ]
  },
  {
   "cell_type": "code",
   "execution_count": 2,
   "metadata": {
    "collapsed": true
   },
   "outputs": [],
   "source": [
    "import numpy as np\n",
    "import pandas as pd\n",
    "from mycode.algo.quick_sort import quick_sort\n",
    "from mycode.algo.basic_sort import selection_sort, insertion_sort\n",
    "from mycode.algo.heap_sort import MinHeap"
   ]
  },
  {
   "cell_type": "markdown",
   "metadata": {},
   "source": [
    "### Example"
   ]
  },
  {
   "cell_type": "code",
   "execution_count": 3,
   "metadata": {},
   "outputs": [
    {
     "name": "stdout",
     "output_type": "stream",
     "text": [
      "[70, 91, 7, 37, 56, 50, 65, 12, 71, 19, 31, 74, 55, 83, 59, 91, 73, 96, 49, 53]\n"
     ]
    }
   ],
   "source": [
    "np.random.seed(40)\n",
    "array = list(np.random.randint(0, 100, (20,)))\n",
    "n = len(array)\n",
    "print(array)"
   ]
  },
  {
   "cell_type": "markdown",
   "metadata": {},
   "source": [
    "### Selection sort"
   ]
  },
  {
   "cell_type": "code",
   "execution_count": 4,
   "metadata": {},
   "outputs": [
    {
     "name": "stdout",
     "output_type": "stream",
     "text": [
      "[7, 12, 19, 31, 37, 49, 50, 53, 55, 56, 59, 65, 70, 71, 73, 74, 83, 91, 91, 96]\n"
     ]
    }
   ],
   "source": [
    "copy = array.copy()\n",
    "selection_sort(copy)\n",
    "print(copy)"
   ]
  },
  {
   "cell_type": "markdown",
   "metadata": {},
   "source": [
    "### Insertion sort"
   ]
  },
  {
   "cell_type": "code",
   "execution_count": 5,
   "metadata": {},
   "outputs": [
    {
     "name": "stdout",
     "output_type": "stream",
     "text": [
      "[7, 12, 19, 31, 37, 49, 50, 53, 55, 56, 59, 65, 70, 71, 73, 74, 83, 91, 91, 96]\n"
     ]
    }
   ],
   "source": [
    "copy = array.copy()\n",
    "insertion_sort(copy)\n",
    "print(copy)"
   ]
  },
  {
   "cell_type": "markdown",
   "metadata": {},
   "source": [
    "### Quick sort"
   ]
  },
  {
   "cell_type": "code",
   "execution_count": 6,
   "metadata": {},
   "outputs": [
    {
     "name": "stdout",
     "output_type": "stream",
     "text": [
      "[7, 12, 19, 31, 37, 49, 50, 53, 55, 56, 59, 65, 70, 71, 73, 74, 83, 91, 91, 96]\n"
     ]
    }
   ],
   "source": [
    "copy = array.copy()\n",
    "quick_sort(copy, 0, len(array)-1)\n",
    "print(copy)"
   ]
  },
  {
   "cell_type": "markdown",
   "metadata": {},
   "source": [
    "### Heap sort"
   ]
  },
  {
   "cell_type": "code",
   "execution_count": 40,
   "metadata": {
    "collapsed": true
   },
   "outputs": [],
   "source": [
    "min_heap = MinHeap(n)\n",
    "min_heap.insert_list(array[:])"
   ]
  },
  {
   "cell_type": "code",
   "execution_count": 41,
   "metadata": {},
   "outputs": [
    {
     "name": "stdout",
     "output_type": "stream",
     "text": [
      "[-1, 7, 12, 50, 37, 19, 55, 59, 73, 49, 53, 31, 74, 70, 83, 65, 91, 91, 96, 71, 56]\n"
     ]
    }
   ],
   "source": [
    "heap = min_heap.array\n",
    "print(heap)"
   ]
  },
  {
   "cell_type": "code",
   "execution_count": 46,
   "metadata": {
    "scrolled": true
   },
   "outputs": [
    {
     "name": "stdout",
     "output_type": "stream",
     "text": [
      "31\n",
      "37 50\n",
      "37\n",
      "49 53\n",
      "50\n",
      "55 59\n",
      "49\n",
      "73 96\n",
      "53\n",
      "71 56\n",
      "55\n",
      "74 70\n",
      "59\n",
      "83 65\n",
      "73\n",
      "91 91\n",
      "96\n",
      "19 12\n"
     ]
    }
   ],
   "source": [
    "# check heap structure\n",
    "for i in range(1, 10):\n",
    "    print(heap[i])\n",
    "    print(\"%d %d\" % (heap[2*i], heap[2*i+1]))"
   ]
  },
  {
   "cell_type": "code",
   "execution_count": 45,
   "metadata": {},
   "outputs": [
    {
     "name": "stdout",
     "output_type": "stream",
     "text": [
      "[-1, 31, 37, 50, 49, 53, 55, 59, 73, 96, 71, 56, 74, 70, 83, 65, 91, 91, 19, 12, 7]\n"
     ]
    }
   ],
   "source": [
    "# to debug\n",
    "min_heap.switch_descent()\n",
    "print(min_heap.array)"
   ]
  }
 ],
 "metadata": {
  "kernelspec": {
   "display_name": "Python 3",
   "language": "python",
   "name": "python3"
  },
  "language_info": {
   "codemirror_mode": {
    "name": "ipython",
    "version": 3
   },
   "file_extension": ".py",
   "mimetype": "text/x-python",
   "name": "python",
   "nbconvert_exporter": "python",
   "pygments_lexer": "ipython3",
   "version": "3.6.1"
  }
 },
 "nbformat": 4,
 "nbformat_minor": 2
}
