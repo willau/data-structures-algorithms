{
 "cells": [
  {
   "cell_type": "code",
   "execution_count": 1,
   "metadata": {
    "collapsed": true
   },
   "outputs": [],
   "source": [
    "%load_ext autoreload\n",
    "%autoreload 2"
   ]
  },
  {
   "cell_type": "markdown",
   "metadata": {},
   "source": [
    "# Testing algorithms"
   ]
  },
  {
   "cell_type": "code",
   "execution_count": 2,
   "metadata": {},
   "outputs": [],
   "source": [
    "import numpy as np\n",
    "import pandas as pd\n",
    "from mycode.algo.quick_sort import quick_sort\n",
    "from mycode.algo.basic_sort import selection_sort, insertion_sort"
   ]
  },
  {
   "cell_type": "markdown",
   "metadata": {},
   "source": [
    "### Example"
   ]
  },
  {
   "cell_type": "code",
   "execution_count": 3,
   "metadata": {},
   "outputs": [
    {
     "name": "stdout",
     "output_type": "stream",
     "text": [
      "[48, 36, 16, 29, 51, 61, 25, 27, 84, 49, 26, 88, 76, 84, 53, 20, 1, 30, 56, 39]\n"
     ]
    }
   ],
   "source": [
    "array = list(np.random.randint(0, 100, (20,)))\n",
    "n = len(array)\n",
    "print(array)"
   ]
  },
  {
   "cell_type": "markdown",
   "metadata": {},
   "source": [
    "### Selection sort"
   ]
  },
  {
   "cell_type": "code",
   "execution_count": 4,
   "metadata": {},
   "outputs": [
    {
     "name": "stdout",
     "output_type": "stream",
     "text": [
      "[1, 16, 20, 25, 26, 27, 29, 30, 36, 39, 48, 49, 51, 53, 56, 61, 76, 84, 84, 88]\n"
     ]
    }
   ],
   "source": [
    "copy = array.copy()\n",
    "selection_sort(copy)\n",
    "print(copy)"
   ]
  },
  {
   "cell_type": "markdown",
   "metadata": {},
   "source": [
    "### Insertion sort"
   ]
  },
  {
   "cell_type": "code",
   "execution_count": 5,
   "metadata": {},
   "outputs": [
    {
     "name": "stdout",
     "output_type": "stream",
     "text": [
      "[1, 16, 20, 25, 26, 27, 29, 30, 36, 39, 48, 49, 51, 53, 56, 61, 76, 84, 84, 88]\n"
     ]
    }
   ],
   "source": [
    "copy = array.copy()\n",
    "insertion_sort(copy)\n",
    "print(copy)"
   ]
  },
  {
   "cell_type": "markdown",
   "metadata": {},
   "source": [
    "### Quicksort"
   ]
  },
  {
   "cell_type": "code",
   "execution_count": 6,
   "metadata": {},
   "outputs": [
    {
     "name": "stdout",
     "output_type": "stream",
     "text": [
      "[1, 16, 20, 25, 26, 27, 29, 30, 36, 39, 48, 49, 51, 53, 56, 61, 76, 84, 84, 88]\n"
     ]
    }
   ],
   "source": [
    "copy = array.copy()\n",
    "quick_sort(copy, 0, len(array)-1)\n",
    "print(copy)"
   ]
  }
 ],
 "metadata": {
  "kernelspec": {
   "display_name": "Python 3",
   "language": "python",
   "name": "python3"
  },
  "language_info": {
   "codemirror_mode": {
    "name": "ipython",
    "version": 3
   },
   "file_extension": ".py",
   "mimetype": "text/x-python",
   "name": "python",
   "nbconvert_exporter": "python",
   "pygments_lexer": "ipython3",
   "version": "3.6.1"
  }
 },
 "nbformat": 4,
 "nbformat_minor": 2
}
