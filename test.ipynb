{
 "cells": [
  {
   "cell_type": "code",
   "execution_count": 1,
   "metadata": {
    "collapsed": true
   },
   "outputs": [],
   "source": [
    "%load_ext autoreload\n",
    "%autoreload 1"
   ]
  },
  {
   "cell_type": "markdown",
   "metadata": {},
   "source": [
    "### Load modules"
   ]
  },
  {
   "cell_type": "code",
   "execution_count": 6,
   "metadata": {
    "collapsed": true
   },
   "outputs": [],
   "source": [
    "from data_struct.queue import QueueArray, QueueLink\n",
    "from data_struct.stack import StackArray, StackLink\n",
    "import numpy as np"
   ]
  },
  {
   "cell_type": "code",
   "execution_count": 18,
   "metadata": {},
   "outputs": [
    {
     "name": "stdout",
     "output_type": "stream",
     "text": [
      "stack: | 72 | 63 | 97 | 90 | 49 | 81 | 40 | 13 | 67 | 22 |\n"
     ]
    },
    {
     "data": {
      "text/plain": [
       "stack: | 72 | 63 | 97 | 90 | 49 | 81 |   |   |   |   |"
      ]
     },
     "execution_count": 18,
     "metadata": {},
     "output_type": "execute_result"
    }
   ],
   "source": [
    "s = StackArray()\n",
    "\n",
    "# insert 10 random integers\n",
    "for __ in range(10):\n",
    "    s.push(np.random.randint(0, 100))\n",
    "print(s)\n",
    "\n",
    "# delete 4 elements\n",
    "for __ in range(4):\n",
    "    s.pop()\n",
    "s"
   ]
  }
 ],
 "metadata": {
  "kernelspec": {
   "display_name": "Python 3",
   "language": "python",
   "name": "python3"
  },
  "language_info": {
   "codemirror_mode": {
    "name": "ipython",
    "version": 3
   },
   "file_extension": ".py",
   "mimetype": "text/x-python",
   "name": "python",
   "nbconvert_exporter": "python",
   "pygments_lexer": "ipython3",
   "version": "3.6.1"
  }
 },
 "nbformat": 4,
 "nbformat_minor": 2
}
