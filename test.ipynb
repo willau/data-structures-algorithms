{
 "cells": [
  {
   "cell_type": "code",
   "execution_count": 1,
   "metadata": {},
   "outputs": [],
   "source": [
    "%load_ext autoreload\n",
    "%autoreload 2"
   ]
  },
  {
   "cell_type": "markdown",
   "metadata": {},
   "source": [
    "## Testing self-made implementations of common data structures "
   ]
  },
  {
   "cell_type": "code",
   "execution_count": 2,
   "metadata": {
    "collapsed": true
   },
   "outputs": [],
   "source": [
    "import numpy as np\n",
    "from data_struct.stack import StackArray, StackLink\n",
    "from data_struct.queue import QueueArray, QueueLink"
   ]
  },
  {
   "cell_type": "code",
   "execution_count": 3,
   "metadata": {},
   "outputs": [
    {
     "name": "stdout",
     "output_type": "stream",
     "text": [
      "[5, 33, 68, 27, 21, 80, 25, 49, 15, 49]\n"
     ]
    }
   ],
   "source": [
    "# generate list\n",
    "rand_list = [np.random.randint(0, 100) for __ in range(10)]\n",
    "print(rand_list)"
   ]
  },
  {
   "cell_type": "markdown",
   "metadata": {},
   "source": [
    "### Stack"
   ]
  },
  {
   "cell_type": "code",
   "execution_count": 4,
   "metadata": {},
   "outputs": [
    {
     "name": "stdout",
     "output_type": "stream",
     "text": [
      "stack: | 5 | 33 | 68 | 27 | 21 | 80 | 25 | 49 | 15 | 49 |\n",
      "stack: | 5 | 33 | 68 | 27 | 21 | 80 | 25 | 49 | 15 |   |\n",
      "stack: | 5 | 33 | 68 | 27 | 21 | 80 | 25 | 49 |   |   |\n"
     ]
    }
   ],
   "source": [
    "s = StackArray()\n",
    "\n",
    "# insert 10 random integers\n",
    "for e in rand_list:\n",
    "    s.push(e)\n",
    "print(s)\n",
    "\n",
    "# delete 4 elements\n",
    "for __ in range(2):\n",
    "    print(s.pop())"
   ]
  },
  {
   "cell_type": "code",
   "execution_count": 5,
   "metadata": {},
   "outputs": [
    {
     "name": "stdout",
     "output_type": "stream",
     "text": [
      "stack: 49 --> 15 --> 49 --> 25 --> 80 --> 21 --> 27 --> 68 --> 33 --> 5 --> null\n",
      "stack: 15 --> 49 --> 25 --> 80 --> 21 --> 27 --> 68 --> 33 --> 5 --> null\n",
      "stack: 49 --> 25 --> 80 --> 21 --> 27 --> 68 --> 33 --> 5 --> null\n"
     ]
    }
   ],
   "source": [
    "s = StackLink()\n",
    "\n",
    "# insert 10 random integers\n",
    "for e in rand_list:\n",
    "    s.push(e)\n",
    "print(s)\n",
    "\n",
    "# delete 4 elements\n",
    "for __ in range(2):\n",
    "    print(s.pop())"
   ]
  },
  {
   "cell_type": "markdown",
   "metadata": {},
   "source": [
    "### Queue"
   ]
  },
  {
   "cell_type": "code",
   "execution_count": 6,
   "metadata": {},
   "outputs": [
    {
     "name": "stdout",
     "output_type": "stream",
     "text": [
      "queue: | 5 | 33 | 68 | 27 | 21 | 80 | 25 | 49 | 15 | 49 |\n",
      "queue: |   | 33 | 68 | 27 | 21 | 80 | 25 | 49 | 15 | 49 |\n",
      "queue: |   |   | 68 | 27 | 21 | 80 | 25 | 49 | 15 | 49 |\n",
      "queue: |   |   |   | 27 | 21 | 80 | 25 | 49 | 15 | 49 |\n"
     ]
    }
   ],
   "source": [
    "q = QueueArray()\n",
    "\n",
    "# insert 10 random integers\n",
    "for e in rand_list:\n",
    "    q.enqueue(e)\n",
    "print(q)\n",
    "\n",
    "# delete 4 elements\n",
    "for __ in range(3):\n",
    "    print(q.dequeue())"
   ]
  },
  {
   "cell_type": "code",
   "execution_count": 7,
   "metadata": {},
   "outputs": [
    {
     "name": "stdout",
     "output_type": "stream",
     "text": [
      "queue: 5 --> 33 --> 68 --> 27 --> 21 --> 80 --> 25 --> 49 --> 15 --> 49 --> null\n",
      "queue: 33 --> 68 --> 27 --> 21 --> 80 --> 25 --> 49 --> 15 --> 49 --> null\n",
      "queue: 68 --> 27 --> 21 --> 80 --> 25 --> 49 --> 15 --> 49 --> null\n",
      "queue: 27 --> 21 --> 80 --> 25 --> 49 --> 15 --> 49 --> null\n"
     ]
    }
   ],
   "source": [
    "q = QueueLink()\n",
    "\n",
    "# insert 10 random integers\n",
    "for e in rand_list:\n",
    "    q.enqueue(e)\n",
    "print(q)\n",
    "\n",
    "# delete 4 elements\n",
    "for __ in range(3):\n",
    "    print(q.dequeue())"
   ]
  }
 ],
 "metadata": {
  "kernelspec": {
   "display_name": "Python 3",
   "language": "python",
   "name": "python3"
  },
  "language_info": {
   "codemirror_mode": {
    "name": "ipython",
    "version": 3
   },
   "file_extension": ".py",
   "mimetype": "text/x-python",
   "name": "python",
   "nbconvert_exporter": "python",
   "pygments_lexer": "ipython3",
   "version": "3.6.1"
  }
 },
 "nbformat": 4,
 "nbformat_minor": 2
}
